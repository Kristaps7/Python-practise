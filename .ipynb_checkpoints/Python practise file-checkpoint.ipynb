{
 "cells": [
  {
   "cell_type": "code",
   "execution_count": null,
   "id": "1da448b7",
   "metadata": {},
   "outputs": [],
   "source": [
    "# %load days.py\n",
    "d = 6\n",
    "\n",
    "if d in (1,2,3,4,5): # A\n",
    "    print('Working day')\n",
    "else:\n",
    "    print('Holiday')\n",
    "    \n",
    "if d in (6,7): # B\n",
    "    print('Holiday')\n",
    "else:\n",
    "    print('Working day')\n",
    "    \n",
    "if d>=1 and d<=5: # C\n",
    "    print('Working day')\n",
    "else:\n",
    "    print('Holiday')\n",
    "    \n",
    "if d<=5: # D\n",
    "    print('Working day')\n",
    "else:\n",
    "    print('Holiday')\n",
    "    \n",
    "        "
   ]
  },
  {
   "cell_type": "code",
   "execution_count": null,
   "id": "004f8e94",
   "metadata": {},
   "outputs": [],
   "source": []
  }
 ],
 "metadata": {
  "kernelspec": {
   "display_name": "Python 3",
   "language": "python",
   "name": "python3"
  },
  "language_info": {
   "codemirror_mode": {
    "name": "ipython",
    "version": 3
   },
   "file_extension": ".py",
   "mimetype": "text/x-python",
   "name": "python",
   "nbconvert_exporter": "python",
   "pygments_lexer": "ipython3",
   "version": "3.8.8"
  }
 },
 "nbformat": 4,
 "nbformat_minor": 5
}
